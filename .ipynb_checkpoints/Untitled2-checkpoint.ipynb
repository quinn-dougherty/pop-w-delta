{
 "cells": [
  {
   "cell_type": "code",
   "execution_count": 1,
   "metadata": {},
   "outputs": [
    {
     "data": {
      "text/plain": [
       "'\\ndelta from https://data.worldbank.org/indicator/SP.POP.GROW\\n\\npop from https://data.worldbank.org/indicator/SP.POP.TOTL\\n\\n'"
      ]
     },
     "execution_count": 1,
     "metadata": {},
     "output_type": "execute_result"
    }
   ],
   "source": [
    "import pandas as pd\n",
    "import altair as alt\n",
    "from vega_datasets import data\n",
    "flatten = lambda l: [item for sublist in l for item in sublist]\n",
    "'''\n",
    "delta from https://data.worldbank.org/indicator/SP.POP.GROW\n",
    "\n",
    "pop from https://data.worldbank.org/indicator/SP.POP.TOTL\n",
    "\n",
    "'''"
   ]
  },
  {
   "cell_type": "code",
   "execution_count": 74,
   "metadata": {},
   "outputs": [],
   "source": [
    "def pop_and_delta(country):\n",
    "    \n",
    "    src_pop = \"base_pops/API_SP.POP.TOTL_DS2_en_csv_v2_10224786.csv\"\n",
    "    src_delta = \"API_SP.POP.GROW_DS2_en_csv_v2_10182032.csv\"\n",
    "    \n",
    "    columns_to_drop = ['Country Code', 'Indicator Name', 'Indicator Code']\n",
    "    column_names = ['year', 'pop', 'delta_pop']\n",
    "    \n",
    "    df_pop = pd.read_csv(src_pop, header=2).drop(columns=columns_to_drop)\n",
    "    df_delta = pd.read_csv(src_delta, header=2).drop(columns=columns_to_drop)\n",
    "    \n",
    "    df_pop.rename(columns={'Country Name': 'country'}, inplace=True)\n",
    "    df_delta.rename(columns={'Country Name': 'country'}, inplace=True)\n",
    "    \n",
    "    country_pop =  df_pop[df_pop['country']==country].T\n",
    "    country_delta =  df_delta[df_delta['country']==country].T\n",
    "    \n",
    "    years = pd.DataFrame(country_pop.iloc[1:]).index.values\n",
    "    \n",
    "    country_pop = flatten(pd.DataFrame(country_pop.iloc[1:]).values)\n",
    "    country_delta = flatten(pd.DataFrame(country_delta.iloc[1:]).values)\n",
    "    \n",
    "    # country_delta.map(lambda x: x * 0.01, inplace=True)\n",
    "    country_delta = [x * 0.01 for x in country_delta]\n",
    "    # print(country_delta.values)\n",
    "    \n",
    "    country_df = pd.DataFrame({column_names[0]: years, \n",
    "                              column_names[1]: country_pop, \n",
    "                              column_names[2]: country_delta})\n",
    "    \n",
    "    return country_df"
   ]
  },
  {
   "cell_type": "code",
   "execution_count": 75,
   "metadata": {},
   "outputs": [
    {
     "data": {
      "text/html": [
       "<div>\n",
       "<style scoped>\n",
       "    .dataframe tbody tr th:only-of-type {\n",
       "        vertical-align: middle;\n",
       "    }\n",
       "\n",
       "    .dataframe tbody tr th {\n",
       "        vertical-align: top;\n",
       "    }\n",
       "\n",
       "    .dataframe thead th {\n",
       "        text-align: right;\n",
       "    }\n",
       "</style>\n",
       "<table border=\"1\" class=\"dataframe\">\n",
       "  <thead>\n",
       "    <tr style=\"text-align: right;\">\n",
       "      <th></th>\n",
       "      <th>year</th>\n",
       "      <th>pop</th>\n",
       "      <th>delta_pop</th>\n",
       "    </tr>\n",
       "  </thead>\n",
       "  <tbody>\n",
       "    <tr>\n",
       "      <th>0</th>\n",
       "      <td>1960</td>\n",
       "      <td>44908293.0</td>\n",
       "      <td>0.022914</td>\n",
       "    </tr>\n",
       "    <tr>\n",
       "      <th>1</th>\n",
       "      <td>1961</td>\n",
       "      <td>45984892.0</td>\n",
       "      <td>0.023690</td>\n",
       "    </tr>\n",
       "    <tr>\n",
       "      <th>2</th>\n",
       "      <td>1962</td>\n",
       "      <td>47119361.0</td>\n",
       "      <td>0.024371</td>\n",
       "    </tr>\n",
       "    <tr>\n",
       "      <th>3</th>\n",
       "      <td>1963</td>\n",
       "      <td>48309315.0</td>\n",
       "      <td>0.024940</td>\n",
       "    </tr>\n",
       "    <tr>\n",
       "      <th>4</th>\n",
       "      <td>1964</td>\n",
       "      <td>49551904.0</td>\n",
       "      <td>0.025396</td>\n",
       "    </tr>\n",
       "  </tbody>\n",
       "</table>\n",
       "</div>"
      ],
      "text/plain": [
       "   year         pop  delta_pop\n",
       "0  1960  44908293.0   0.022914\n",
       "1  1961  45984892.0   0.023690\n",
       "2  1962  47119361.0   0.024371\n",
       "3  1963  48309315.0   0.024940\n",
       "4  1964  49551904.0   0.025396"
      ]
     },
     "execution_count": 75,
     "metadata": {},
     "output_type": "execute_result"
    }
   ],
   "source": [
    "pop_and_delta('Pakistan').head()"
   ]
  },
  {
   "cell_type": "code",
   "execution_count": 76,
   "metadata": {},
   "outputs": [],
   "source": [
    "def show_pop_w_delta(country_df):\n",
    "    \n",
    "    interval = alt.selection_interval(encodings=['x'])\n",
    "    column_names = ['year', 'pop', 'delta_pop']\n",
    "    \n",
    "    chart_pop = alt.Chart(country_df, width=800).mark_bar(color='black').encode(\n",
    "        x=alt.X('pop',  scale=alt.Scale(domain=(country_df[column_names[1]].min(), country_df[column_names[1]].max()))),\n",
    "        y=alt.Y('year', axis=alt.Axis(title='Year')),\n",
    "        #y='year'\n",
    "        tooltip='delta_pop'\n",
    "        ).transform_filter(\n",
    "            interval\n",
    "        )\n",
    "        \n",
    "    chart_delta = alt.Chart(country_df, width=800).mark_line(color='black').encode(\n",
    "        x=alt.X('year', axis=alt.Axis(title='Year')),\n",
    "        y=alt.Y('delta_pop', axis=alt.Axis(format='%', title='Change in Population'))\n",
    "        # y='delta_pop'\n",
    "        # tooltip='pop'\n",
    "        ).properties(\n",
    "            selection=interval\n",
    "        )\n",
    "    \n",
    "    return chart_delta & chart_pop"
   ]
  },
  {
   "cell_type": "code",
   "execution_count": 77,
   "metadata": {},
   "outputs": [
    {
     "data": {
      "application/vnd.vegalite.v2+json": {
       "$schema": "https://vega.github.io/schema/vega-lite/v2.6.0.json",
       "config": {
        "view": {
         "height": 300,
         "width": 400
        }
       },
       "datasets": {
        "data-16793838549dd4ffdb5e82b6bbe987df": [
         {
          "delta_pop": 0.0183286768126466,
          "pop": 667070000,
          "year": "1960"
         },
         {
          "delta_pop": -0.0101552778731319,
          "pop": 660330000,
          "year": "1961"
         },
         {
          "delta_pop": 0.00820455548748518,
          "pop": 665770000,
          "year": "1962"
         },
         {
          "delta_pop": 0.024576474039514504,
          "pop": 682335000,
          "year": "1963"
         },
         {
          "delta_pop": 0.023206829870685498,
          "pop": 698355000,
          "year": "1964"
         },
         {
          "delta_pop": 0.0238136810251949,
          "pop": 715185000,
          "year": "1965"
         },
         {
          "delta_pop": 0.0278733183821693,
          "pop": 735400000,
          "year": "1966"
         },
         {
          "delta_pop": 0.025706976197387998,
          "pop": 754550000,
          "year": "1967"
         },
         {
          "delta_pop": 0.0261090262648529,
          "pop": 774510000,
          "year": "1968"
         },
         {
          "delta_pop": 0.027400021056955805,
          "pop": 796025000,
          "year": "1969"
         },
         {
          "delta_pop": 0.027616755664530403,
          "pop": 818315000,
          "year": "1970"
         },
         {
          "delta_pop": 0.0274691554961857,
          "pop": 841105000,
          "year": "1971"
         },
         {
          "delta_pop": 0.0245735692952286,
          "pop": 862030000,
          "year": "1972"
         },
         {
          "delta_pop": 0.0228339536396383,
          "pop": 881940000,
          "year": "1973"
         },
         {
          "delta_pop": 0.020659550133563197,
          "pop": 900350000,
          "year": "1974"
         },
         {
          "delta_pop": 0.017663917816248202,
          "pop": 916395000,
          "year": "1975"
         },
         {
          "delta_pop": 0.0154733797287665,
          "pop": 930685000,
          "year": "1976"
         },
         {
          "delta_pop": 0.0136277947570678,
          "pop": 943455000,
          "year": "1977"
         },
         {
          "delta_pop": 0.0133818233834084,
          "pop": 956165000,
          "year": "1978"
         },
         {
          "delta_pop": 0.013339279535168702,
          "pop": 969005000,
          "year": "1979"
         },
         {
          "delta_pop": 0.012542210519398703,
          "pop": 981235000,
          "year": "1980"
         },
         {
          "delta_pop": 0.0128095234429252,
          "pop": 993885000,
          "year": "1981"
         },
         {
          "delta_pop": 0.014726747601658098,
          "pop": 1008630000,
          "year": "1982"
         },
         {
          "delta_pop": 0.014449496950092,
          "pop": 1023310000,
          "year": "1983"
         },
         {
          "delta_pop": 0.013120687611377902,
          "pop": 1036825000,
          "year": "1984"
         },
         {
          "delta_pop": 0.013616991182536899,
          "pop": 1051040000,
          "year": "1985"
         },
         {
          "delta_pop": 0.014873989291490301,
          "pop": 1066790000,
          "year": "1986"
         },
         {
          "delta_pop": 0.016036050865576003,
          "pop": 1084035000,
          "year": "1987"
         },
         {
          "delta_pop": 0.0161007108578698,
          "pop": 1101630000,
          "year": "1988"
         },
         {
          "delta_pop": 0.0153316999599862,
          "pop": 1118650000,
          "year": "1989"
         },
         {
          "delta_pop": 0.0146730321087928,
          "pop": 1135185000,
          "year": "1990"
         },
         {
          "delta_pop": 0.013644340084034898,
          "pop": 1150780000,
          "year": "1991"
         },
         {
          "delta_pop": 0.012255362283362,
          "pop": 1164970000,
          "year": "1992"
         },
         {
          "delta_pop": 0.011496194308346499,
          "pop": 1178440000,
          "year": "1993"
         },
         {
          "delta_pop": 0.011302606321559099,
          "pop": 1191835000,
          "year": "1994"
         },
         {
          "delta_pop": 0.0108650915088974,
          "pop": 1204855000,
          "year": "1995"
         },
         {
          "delta_pop": 0.0104814151412165,
          "pop": 1217550000,
          "year": "1996"
         },
         {
          "delta_pop": 0.0102345002419879,
          "pop": 1230075000,
          "year": "1997"
         },
         {
          "delta_pop": 0.00959550406298151,
          "pop": 1241935000,
          "year": "1998"
         },
         {
          "delta_pop": 0.00865851392993279,
          "pop": 1252735000,
          "year": "1999"
         },
         {
          "delta_pop": 0.00787956592953992,
          "pop": 1262645000,
          "year": "2000"
         },
         {
          "delta_pop": 0.0072638063783852505,
          "pop": 1271850000,
          "year": "2001"
         },
         {
          "delta_pop": 0.00669999567758626,
          "pop": 1280400000,
          "year": "2002"
         },
         {
          "delta_pop": 0.006228609361335831,
          "pop": 1288400000,
          "year": "2003"
         },
         {
          "delta_pop": 0.00593932815112141,
          "pop": 1296075000,
          "year": "2004"
         },
         {
          "delta_pop": 0.005881249895569921,
          "pop": 1303720000,
          "year": "2005"
         },
         {
          "delta_pop": 0.005583743673730021,
          "pop": 1311020000,
          "year": "2006"
         },
         {
          "delta_pop": 0.0052227186639227504,
          "pop": 1317885000,
          "year": "2007"
         },
         {
          "delta_pop": 0.0051238693163744,
          "pop": 1324655000,
          "year": "2008"
         },
         {
          "delta_pop": 0.00497381400884935,
          "pop": 1331260000,
          "year": "2009"
         },
         {
          "delta_pop": 0.00482959688678361,
          "pop": 1337705000,
          "year": "2010"
         },
         {
          "delta_pop": 0.004791504542499601,
          "pop": 1344130000,
          "year": "2011"
         },
         {
          "delta_pop": 0.00487231117971201,
          "pop": 1350695000,
          "year": "2012"
         },
         {
          "delta_pop": 0.0049370963351136,
          "pop": 1357380000,
          "year": "2013"
         },
         {
          "delta_pop": 0.005063115917798471,
          "pop": 1364270000,
          "year": "2014"
         },
         {
          "delta_pop": 0.00508136747291937,
          "pop": 1371220000,
          "year": "2015"
         },
         {
          "delta_pop": 0.00541478512050099,
          "pop": 1378665000,
          "year": "2016"
         },
         {
          "delta_pop": 0.00559121331017265,
          "pop": 1386395000,
          "year": "2017"
         },
         {
          "delta_pop": null,
          "pop": null,
          "year": "Unnamed: 62"
         }
        ]
       },
       "vconcat": [
        {
         "data": {
          "name": "data-16793838549dd4ffdb5e82b6bbe987df"
         },
         "encoding": {
          "x": {
           "axis": {
            "title": "Year"
           },
           "field": "year",
           "type": "nominal"
          },
          "y": {
           "axis": {
            "format": "%",
            "title": "Change in Population"
           },
           "field": "delta_pop",
           "type": "quantitative"
          }
         },
         "mark": {
          "color": "black",
          "type": "line"
         },
         "selection": {
          "selector015": {
           "encodings": [
            "x"
           ],
           "mark": {
            "fill": "#333",
            "fillOpacity": 0.125,
            "stroke": "white"
           },
           "on": "[mousedown, window:mouseup] > window:mousemove!",
           "resolve": "global",
           "translate": "[mousedown, window:mouseup] > window:mousemove!",
           "type": "interval",
           "zoom": "wheel!"
          }
         },
         "width": 800
        },
        {
         "data": {
          "name": "data-16793838549dd4ffdb5e82b6bbe987df"
         },
         "encoding": {
          "tooltip": {
           "field": "delta_pop",
           "type": "quantitative"
          },
          "x": {
           "field": "pop",
           "scale": {
            "domain": [
             660330000,
             1386395000
            ]
           },
           "type": "quantitative"
          },
          "y": {
           "axis": {
            "title": "Year"
           },
           "field": "year",
           "type": "nominal"
          }
         },
         "mark": {
          "color": "black",
          "type": "bar"
         },
         "transform": [
          {
           "filter": {
            "selection": "selector015"
           }
          }
         ],
         "width": 800
        }
       ]
      },
      "image/png": "[encoded data removed]",
      "text/plain": [
       "<VegaLite 2 object>\n",
       "\n",
       "If you see this message, it means the renderer has not been properly enabled\n",
       "for the frontend that you are using. For more information, see\n",
       "https://altair-viz.github.io/user_guide/troubleshooting.html\n"
      ]
     },
     "execution_count": 77,
     "metadata": {},
     "output_type": "execute_result"
    }
   ],
   "source": [
    "show_pop_w_delta(pop_and_delta('China'))"
   ]
  },
  {
   "cell_type": "code",
   "execution_count": 20,
   "metadata": {},
   "outputs": [],
   "source": [
    "'''\n",
    "def main(country):\n",
    "    flatten = lambda l: [item for sublist in l for item in sublist]\n",
    "    \n",
    "    src_pop = \"base_pops/API_SP.POP.TOTL_DS2_en_csv_v2_10224786.csv\"\n",
    "    src_delta = \"API_SP.POP.GROW_DS2_en_csv_v2_10182032.csv\"\n",
    "    \n",
    "    columns_to_drop = ['Country Code', 'Indicator Name', 'Indicator Code']\n",
    "    column_names = ['year', 'pop', 'delta_pop']\n",
    "    \n",
    "    df_pop = pd.read_csv(src_pop, header=2).drop(columns=columns_to_drop)\n",
    "    df_delta = pd.read_csv(src_delta, header=2).drop(columns=columns_to_drop)\n",
    "    \n",
    "    df_pop.rename(columns={'Country Name': 'country'}, inplace=True)\n",
    "    df_delta.rename(columns={'Country Name': 'country'}, inplace=True)\n",
    "    \n",
    "    pop_and_delta(country).head()\n",
    "'''"
   ]
  },
  {
   "cell_type": "code",
   "execution_count": null,
   "metadata": {},
   "outputs": [],
   "source": []
  },
  {
   "cell_type": "code",
   "execution_count": 79,
   "metadata": {},
   "outputs": [
    {
     "data": {
      "application/vnd.vegalite.v2+json": {
       "$schema": "https://vega.github.io/schema/vega-lite/v2.6.0.json",
       "config": {
        "view": {
         "height": 300,
         "width": 400
        }
       },
       "datasets": {
        "data-690405d4102129a9e7436745071fc24e": [
         {
          "delta_pop": 0.018160765214610703,
          "pop": 8996351,
          "year": "1960"
         },
         {
          "delta_pop": 0.018765283452908604,
          "pop": 9166764,
          "year": "1961"
         },
         {
          "delta_pop": 0.0193499863593538,
          "pop": 9345868,
          "year": "1962"
         },
         {
          "delta_pop": 0.019925211444355,
          "pop": 9533954,
          "year": "1963"
         },
         {
          "delta_pop": 0.0204942311526065,
          "pop": 9731361,
          "year": "1964"
         },
         {
          "delta_pop": 0.021053687507614,
          "pop": 9938414,
          "year": "1965"
         },
         {
          "delta_pop": 0.0212958836997067,
          "pop": 10152331,
          "year": "1966"
         },
         {
          "delta_pop": 0.0214672719933648,
          "pop": 10372630,
          "year": "1967"
         },
         {
          "delta_pop": 0.022093310804125604,
          "pop": 10604346,
          "year": "1968"
         },
         {
          "delta_pop": 0.023309190240079,
          "pop": 10854428,
          "year": "1969"
         },
         {
          "delta_pop": 0.024722659446977203,
          "pop": 11126123,
          "year": "1970"
         },
         {
          "delta_pop": 0.0258799639693922,
          "pop": 11417825,
          "year": "1971"
         },
         {
          "delta_pop": 0.0262865687132542,
          "pop": 11721940,
          "year": "1972"
         },
         {
          "delta_pop": 0.0257601667532953,
          "pop": 12027822,
          "year": "1973"
         },
         {
          "delta_pop": 0.0241265652382219,
          "pop": 12321541,
          "year": "1974"
         },
         {
          "delta_pop": 0.021576532787654,
          "pop": 12590286,
          "year": "1975"
         },
         {
          "delta_pop": 0.019663020355186103,
          "pop": 12840299,
          "year": "1976"
         },
         {
          "delta_pop": 0.017542554983471598,
          "pop": 13067538,
          "year": "1977"
         },
         {
          "delta_pop": 0.0129402482465926,
          "pop": 13237734,
          "year": "1978"
         },
         {
          "delta_pop": 0.005195904206291671,
          "pop": 13306695,
          "year": "1979"
         },
         {
          "delta_pop": -0.00439276603453853,
          "pop": 13248370,
          "year": "1980"
         },
         {
          "delta_pop": -0.014783449614163403,
          "pop": 13053954,
          "year": "1981"
         },
         {
          "delta_pop": -0.0235876483031488,
          "pop": 12749645,
          "year": "1982"
         },
         {
          "delta_pop": -0.028672733371920195,
          "pop": 12389269,
          "year": "1983"
         },
         {
          "delta_pop": -0.028005482523430804,
          "pop": 12047115,
          "year": "1984"
         },
         {
          "delta_pop": -0.022163154060490898,
          "pop": 11783050,
          "year": "1985"
         },
         {
          "delta_pop": -0.015567222658598404,
          "pop": 11601041,
          "year": "1986"
         },
         {
          "delta_pop": -0.008507741955647671,
          "pop": 11502761,
          "year": "1987"
         },
         {
          "delta_pop": 0.00330911435004389,
          "pop": 11540888,
          "year": "1988"
         },
         {
          "delta_pop": 0.020303978624981598,
          "pop": 11777609,
          "year": "1989"
         },
         {
          "delta_pop": 0.0392534213599438,
          "pop": 12249114,
          "year": "1990"
         },
         {
          "delta_pop": 0.059007707466980995,
          "pop": 12993657,
          "year": "1991"
         },
         {
          "delta_pop": 0.0732544719810673,
          "pop": 13981231,
          "year": "1992"
         },
         {
          "delta_pop": 0.0766543343078802,
          "pop": 15095099,
          "year": "1993"
         },
         {
          "delta_pop": 0.06895568874959769,
          "pop": 16172719,
          "year": "1994"
         },
         {
          "delta_pop": 0.055725810693134904,
          "pop": 17099541,
          "year": "1995"
         },
         {
          "delta_pop": 0.041431628533293505,
          "pop": 17822884,
          "year": "1996"
         },
         {
          "delta_pop": 0.030867186716072203,
          "pop": 18381605,
          "year": "1997"
         },
         {
          "delta_pop": 0.0259048544915264,
          "pop": 18863999,
          "year": "1998"
         },
         {
          "delta_pop": 0.0282072418714503,
          "pop": 19403676,
          "year": "1999"
         },
         {
          "delta_pop": 0.0349465873827217,
          "pop": 20093756,
          "year": "2000"
         },
         {
          "delta_pop": 0.0425150411214678,
          "pop": 20966463,
          "year": "2001"
         },
         {
          "delta_pop": 0.047205284624998706,
          "pop": 21979923,
          "year": "2002"
         },
         {
          "delta_pop": 0.048180411199956696,
          "pop": 23064851,
          "year": "2003"
         },
         {
          "delta_pop": 0.0446891839618783,
          "pop": 24118979,
          "year": "2004"
         },
         {
          "delta_pop": 0.038704701590704,
          "pop": 25070798,
          "year": "2005"
         },
         {
          "delta_pop": 0.032286298431908306,
          "pop": 25893450,
          "year": "2006"
         },
         {
          "delta_pop": 0.0275522538418067,
          "pop": 26616792,
          "year": "2007"
         },
         {
          "delta_pop": 0.025125738785155,
          "pop": 27294031,
          "year": "2008"
         },
         {
          "delta_pop": 0.025691143189101002,
          "pop": 28004331,
          "year": "2009"
         },
         {
          "delta_pop": 0.0281261695888044,
          "pop": 28803167,
          "year": "2010"
         },
         {
          "delta_pop": 0.03095118614892,
          "pop": 29708599,
          "year": "2011"
         },
         {
          "delta_pop": 0.0327270292128737,
          "pop": 30696958,
          "year": "2012"
         },
         {
          "delta_pop": 0.033152241309788,
          "pop": 31731688,
          "year": "2013"
         },
         {
          "delta_pop": 0.0318320145523634,
          "pop": 32758020,
          "year": "2014"
         },
         {
          "delta_pop": 0.0294323418503806,
          "pop": 33736494,
          "year": "2015"
         },
         {
          "delta_pop": 0.026891634730922005,
          "pop": 34656032,
          "year": "2016"
         },
         {
          "delta_pop": 0.0249078956147291,
          "pop": 35530081,
          "year": "2017"
         },
         {
          "delta_pop": null,
          "pop": null,
          "year": "Unnamed: 62"
         }
        ],
        "data-8dc7a1a2c6715f75b149b6cf92067336": [
         {
          "delta_pop": 0.0229135994582789,
          "pop": 44908293,
          "year": "1960"
         },
         {
          "delta_pop": 0.0236904307347353,
          "pop": 45984892,
          "year": "1961"
         },
         {
          "delta_pop": 0.024371070370864303,
          "pop": 47119361,
          "year": "1962"
         },
         {
          "delta_pop": 0.024940421076001,
          "pop": 48309315,
          "year": "1963"
         },
         {
          "delta_pop": 0.0253962866634001,
          "pop": 49551904,
          "year": "1964"
         },
         {
          "delta_pop": 0.025765449906834905,
          "pop": 50845221,
          "year": "1965"
         },
         {
          "delta_pop": 0.026125750689001203,
          "pop": 52191095,
          "year": "1966"
         },
         {
          "delta_pop": 0.026467932214186498,
          "pop": 53590929,
          "year": "1967"
         },
         {
          "delta_pop": 0.026723924141898704,
          "pop": 55042397,
          "year": "1968"
         },
         {
          "delta_pop": 0.0268876576854284,
          "pop": 56542434,
          "year": "1969"
         },
         {
          "delta_pop": 0.0270151973436713,
          "pop": 58090759,
          "year": "1970"
         },
         {
          "delta_pop": 0.027109988957890695,
          "pop": 59687140,
          "year": "1971"
         },
         {
          "delta_pop": 0.027287221295755896,
          "pop": 61338261,
          "year": "1972"
         },
         {
          "delta_pop": 0.027674615721244706,
          "pop": 63059481,
          "year": "1973"
         },
         {
          "delta_pop": 0.028319684383119204,
          "pop": 64870833,
          "year": "1974"
         },
         {
          "delta_pop": 0.029123833174134903,
          "pop": 66787901,
          "year": "1975"
         },
         {
          "delta_pop": 0.0298739362600165,
          "pop": 68813220,
          "year": "1976"
         },
         {
          "delta_pop": 0.030526402634771205,
          "pop": 70946231,
          "year": "1977"
         },
         {
          "delta_pop": 0.031203971630285196,
          "pop": 73194937,
          "year": "1978"
         },
         {
          "delta_pop": 0.0319024531060065,
          "pop": 75567682,
          "year": "1979"
         },
         {
          "delta_pop": 0.0325533812985533,
          "pop": 78068144,
          "year": "1980"
         },
         {
          "delta_pop": 0.0331186319885573,
          "pop": 80696945,
          "year": "1981"
         },
         {
          "delta_pop": 0.0334973559818248,
          "pop": 83445863,
          "year": "1982"
         },
         {
          "delta_pop": 0.033604176966227,
          "pop": 86297640,
          "year": "1983"
         },
         {
          "delta_pop": 0.0334032760432333,
          "pop": 89228949,
          "year": "1984"
         },
         {
          "delta_pop": 0.0329659475292594,
          "pop": 92219488,
          "year": "1985"
         },
         {
          "delta_pop": 0.032485338686168395,
          "pop": 95264460,
          "year": "1986"
         },
         {
          "delta_pop": 0.031951712171716405,
          "pop": 98357473,
          "year": "1987"
         },
         {
          "delta_pop": 0.0312023110273578,
          "pop": 101474835,
          "year": "1988"
         },
         {
          "delta_pop": 0.030222670627874,
          "pop": 104588490,
          "year": "1989"
         },
         {
          "delta_pop": 0.029117487007301004,
          "pop": 107678614,
          "year": "1990"
         },
         {
          "delta_pop": 0.027947604370293394,
          "pop": 110730420,
          "year": "1991"
         },
         {
          "delta_pop": 0.0268792719878321,
          "pop": 113747135,
          "year": "1992"
         },
         {
          "delta_pop": 0.0260532571046084,
          "pop": 116749560,
          "year": "1993"
         },
         {
          "delta_pop": 0.025538402041970602,
          "pop": 119769556,
          "year": "1994"
         },
         {
          "delta_pop": 0.025224819263502,
          "pop": 122829148,
          "year": "1995"
         },
         {
          "delta_pop": 0.0249980650427894,
          "pop": 125938339,
          "year": "1996"
         },
         {
          "delta_pop": 0.024694080787465,
          "pop": 129086987,
          "year": "1997"
         },
         {
          "delta_pop": 0.0242322560221348,
          "pop": 132253264,
          "year": "1998"
         },
         {
          "delta_pop": 0.023555849432742103,
          "pop": 135405584,
          "year": "1999"
         },
         {
          "delta_pop": 0.0227638338441387,
          "pop": 138523285,
          "year": "2000"
         },
         {
          "delta_pop": 0.0219778952731797,
          "pop": 141601437,
          "year": "2001"
         },
         {
          "delta_pop": 0.021329343047337905,
          "pop": 144654143,
          "year": "2002"
         },
         {
          "delta_pop": 0.020860543116557,
          "pop": 147703401,
          "year": "2003"
         },
         {
          "delta_pop": 0.020617594758271296,
          "pop": 150780300,
          "year": "2004"
         },
         {
          "delta_pop": 0.0205420419520403,
          "pop": 153909667,
          "year": "2005"
         },
         {
          "delta_pop": 0.0204784553512615,
          "pop": 157093993,
          "year": "2006"
         },
         {
          "delta_pop": 0.0204084325322204,
          "pop": 160332974,
          "year": "2007"
         },
         {
          "delta_pop": 0.020444281214050602,
          "pop": 163644603,
          "year": "2008"
         },
         {
          "delta_pop": 0.020593633097355,
          "pop": 167049580,
          "year": "2009"
         },
         {
          "delta_pop": 0.020797553467776498,
          "pop": 170560182,
          "year": "2010"
         },
         {
          "delta_pop": 0.0210255250784699,
          "pop": 174184265,
          "year": "2011"
         },
         {
          "delta_pop": 0.0211726879973267,
          "pop": 177911533,
          "year": "2012"
         },
         {
          "delta_pop": 0.021139869430308798,
          "pop": 181712595,
          "year": "2013"
         },
         {
          "delta_pop": 0.020877924286700204,
          "pop": 185546257,
          "year": "2014"
         },
         {
          "delta_pop": 0.020454072548169104,
          "pop": 189380513,
          "year": "2015"
         },
         {
          "delta_pop": 0.019985625943939402,
          "pop": 193203476,
          "year": "2016"
         },
         {
          "delta_pop": 0.0195408019712084,
          "pop": 197015955,
          "year": "2017"
         },
         {
          "delta_pop": null,
          "pop": null,
          "year": "Unnamed: 62"
         }
        ]
       },
       "hconcat": [
        {
         "vconcat": [
          {
           "data": {
            "name": "data-8dc7a1a2c6715f75b149b6cf92067336"
           },
           "encoding": {
            "x": {
             "axis": {
              "title": "Year"
             },
             "field": "year",
             "type": "nominal"
            },
            "y": {
             "axis": {
              "format": "%",
              "title": "Change in Population"
             },
             "field": "delta_pop",
             "type": "quantitative"
            }
           },
           "mark": {
            "color": "black",
            "type": "line"
           },
           "selection": {
            "selector018": {
             "encodings": [
              "x"
             ],
             "mark": {
              "fill": "#333",
              "fillOpacity": 0.125,
              "stroke": "white"
             },
             "on": "[mousedown, window:mouseup] > window:mousemove!",
             "resolve": "global",
             "translate": "[mousedown, window:mouseup] > window:mousemove!",
             "type": "interval",
             "zoom": "wheel!"
            }
           },
           "width": 800
          },
          {
           "data": {
            "name": "data-8dc7a1a2c6715f75b149b6cf92067336"
           },
           "encoding": {
            "tooltip": {
             "field": "delta_pop",
             "type": "quantitative"
            },
            "x": {
             "field": "pop",
             "scale": {
              "domain": [
               44908293,
               197015955
              ]
             },
             "type": "quantitative"
            },
            "y": {
             "axis": {
              "title": "Year"
             },
             "field": "year",
             "type": "nominal"
            }
           },
           "mark": {
            "color": "black",
            "type": "bar"
           },
           "transform": [
            {
             "filter": {
              "selection": "selector018"
             }
            }
           ],
           "width": 800
          }
         ]
        },
        {
         "vconcat": [
          {
           "data": {
            "name": "data-690405d4102129a9e7436745071fc24e"
           },
           "encoding": {
            "x": {
             "axis": {
              "title": "Year"
             },
             "field": "year",
             "type": "nominal"
            },
            "y": {
             "axis": {
              "format": "%",
              "title": "Change in Population"
             },
             "field": "delta_pop",
             "type": "quantitative"
            }
           },
           "mark": {
            "color": "black",
            "type": "line"
           },
           "selection": {
            "selector019": {
             "encodings": [
              "x"
             ],
             "mark": {
              "fill": "#333",
              "fillOpacity": 0.125,
              "stroke": "white"
             },
             "on": "[mousedown, window:mouseup] > window:mousemove!",
             "resolve": "global",
             "translate": "[mousedown, window:mouseup] > window:mousemove!",
             "type": "interval",
             "zoom": "wheel!"
            }
           },
           "width": 800
          },
          {
           "data": {
            "name": "data-690405d4102129a9e7436745071fc24e"
           },
           "encoding": {
            "tooltip": {
             "field": "delta_pop",
             "type": "quantitative"
            },
            "x": {
             "field": "pop",
             "scale": {
              "domain": [
               8996351,
               35530081
              ]
             },
             "type": "quantitative"
            },
            "y": {
             "axis": {
              "title": "Year"
             },
             "field": "year",
             "type": "nominal"
            }
           },
           "mark": {
            "color": "black",
            "type": "bar"
           },
           "transform": [
            {
             "filter": {
              "selection": "selector019"
             }
            }
           ],
           "width": 800
          }
         ]
        }
       ]
      },
      "image/png": "[encoded data removed]",
      "text/plain": [
       "<VegaLite 2 object>\n",
       "\n",
       "If you see this message, it means the renderer has not been properly enabled\n",
       "for the frontend that you are using. For more information, see\n",
       "https://altair-viz.github.io/user_guide/troubleshooting.html\n"
      ]
     },
     "execution_count": 79,
     "metadata": {},
     "output_type": "execute_result"
    }
   ],
   "source": [
    "show_pop_w_delta(pop_and_delta('Pakistan')) | show_pop_w_delta(pop_and_delta('Afghanistan'))\n",
    "\n",
    "    "
   ]
  },
  {
   "cell_type": "code",
   "execution_count": null,
   "metadata": {},
   "outputs": [],
   "source": []
  },
  {
   "cell_type": "code",
   "execution_count": null,
   "metadata": {},
   "outputs": [],
   "source": []
  }
 ],
 "metadata": {
  "kernelspec": {
   "display_name": "Python 3",
   "language": "python",
   "name": "python3"
  },
  "language_info": {
   "codemirror_mode": {
    "name": "ipython",
    "version": 3
   },
   "file_extension": ".py",
   "mimetype": "text/x-python",
   "name": "python",
   "nbconvert_exporter": "python",
   "pygments_lexer": "ipython3",
   "version": "3.7.0"
  }
 },
 "nbformat": 4,
 "nbformat_minor": 2
}
