{
  "nbformat": 4,
  "nbformat_minor": 0,
  "metadata": {
    "colab": {
      "name": "Pop By Delta.ipynb",
      "version": "0.3.2",
      "provenance": [],
      "collapsed_sections": [],
      "include_colab_link": true
    },
    "kernelspec": {
      "name": "python3",
      "display_name": "Python 3"
    }
  },
  "cells": [
    {
      "cell_type": "markdown",
      "metadata": {
        "id": "view-in-github",
        "colab_type": "text"
      },
      "source": [
        "<a href=\"https://colab.research.google.com/github/quinn-dougherty/pop-w-delta/blob/master/Pop_By_Delta.ipynb\" target=\"_parent\"><img src=\"https://colab.research.google.com/assets/colab-badge.svg\" alt=\"Open In Colab\"/></a>"
      ]
    },
    {
      "metadata": {
        "id": "IlFwTpf0rEu4",
        "colab_type": "code",
        "cellView": "form",
        "outputId": "3ad267ea-bdce-4c26-c663-2fb19093b88a",
        "colab": {
          "base_uri": "https://localhost:8080/",
          "height": 34
        }
      },
      "cell_type": "code",
      "source": [
        "#@title\n",
        "import pandas as pd\n",
        "import altair as alt\n",
        "flatten = lambda l: [item for sublist in l for item in sublist]\n",
        "'''\n",
        "delta from https://data.worldbank.org/indicator/SP.POP.GROW\n",
        "\n",
        "pop from https://data.worldbank.org/indicator/SP.POP.TOTL\n",
        "\n",
        "'''"
      ],
      "execution_count": 2,
      "outputs": [
        {
          "output_type": "execute_result",
          "data": {
            "text/plain": [
              "'\\ndelta from https://data.worldbank.org/indicator/SP.POP.GROW\\n\\npop from https://data.worldbank.org/indicator/SP.POP.TOTL\\n\\n'"
            ]
          },
          "metadata": {
            "tags": []
          },
          "execution_count": 2
        }
      ]
    },
    {
      "metadata": {
        "id": "N1hygfvTrRKi",
        "colab_type": "code",
        "cellView": "form",
        "colab": {}
      },
      "cell_type": "code",
      "source": [
        "#@title\n",
        "def pop_and_delta(country):\n",
        "    \n",
        "    src_pop = \"https://raw.githubusercontent.com/quinn-dougherty/pop-w-delta/master/attempted_heroku/data/base_pops/API_SP.POP.TOTL_DS2_en_csv_v2_10224786.csv\"\n",
        "    src_delta = \"https://raw.githubusercontent.com/quinn-dougherty/pop-w-delta/master/attempted_heroku/data/delta_pops/API_SP.POP.GROW_DS2_en_csv_v2_10182032.csv\"\n",
        "    \n",
        "    columns_to_drop = ['Country Code', 'Indicator Name', 'Indicator Code']\n",
        "    column_names = ['year', 'Population', 'delta_pop']\n",
        "    \n",
        "    df_pop = pd.read_csv(src_pop, header=2).drop(columns=columns_to_drop)\n",
        "    df_delta = pd.read_csv(src_delta, header=2).drop(columns=columns_to_drop)\n",
        "    \n",
        "    df_pop.rename(columns={'Country Name': 'country'}, inplace=True)\n",
        "    df_delta.rename(columns={'Country Name': 'country'}, inplace=True)\n",
        "    \n",
        "    country_pop =  df_pop[df_pop['country']==country].T\n",
        "    country_delta =  df_delta[df_delta['country']==country].T\n",
        "    \n",
        "    years = pd.DataFrame(country_pop.iloc[1:]).index.values\n",
        "    \n",
        "    country_pop = flatten(pd.DataFrame(country_pop.iloc[1:]).values)\n",
        "    country_delta = flatten(pd.DataFrame(country_delta.iloc[1:]).values)\n",
        "    \n",
        "    country_delta = [x * 0.01 for x in country_delta]\n",
        "    \n",
        "    country_df = pd.DataFrame({column_names[0]: years, \n",
        "                              column_names[1]: country_pop, \n",
        "                              column_names[2]: country_delta})\n",
        "    \n",
        "    return country_df"
      ],
      "execution_count": 0,
      "outputs": []
    },
    {
      "metadata": {
        "id": "hFDukPnUrRNg",
        "colab_type": "code",
        "cellView": "form",
        "colab": {}
      },
      "cell_type": "code",
      "source": [
        "#@title\n",
        "def show_pop_w_delta(country_df): #Country):\n",
        "    #t = Country[0]\n",
        "    #country_df = Country[1]\n",
        "    w=800 # width\n",
        "    \n",
        "    interval = alt.selection_interval(encodings=['x'])\n",
        "    column_names = ['year', 'Population', 'delta_pop']\n",
        "    \n",
        "    chart_pop = alt.Chart(country_df, width=w).mark_bar(color='orange').encode(\n",
        "        #x=alt.X('pop',  scale=alt.Scale(domain=(country_df[column_names[1]].min(), country_df[column_names[1]].max()))),\n",
        "        x=alt.X('Population',  scale=alt.Scale(domain=(0, country_df[column_names[1]].max()))),\n",
        "        y=alt.Y('year', axis=alt.Axis(title='Year')),\n",
        "        #y='year'\n",
        "        tooltip='delta_pop'\n",
        "        ).transform_filter(\n",
        "            interval\n",
        "        )\n",
        "        \n",
        "    chart_delta = alt.Chart(country_df, width=w).mark_line(color='purple').encode(\n",
        "        x=alt.X('year', axis=alt.Axis(title='Year')),\n",
        "        y=alt.Y('delta_pop', axis=alt.Axis(format='%', title='Change in Population'))\n",
        "        # y='delta_pop'\n",
        "        # tooltip='pop'\n",
        "        ).properties(\n",
        "            selection=interval\n",
        "        )\n",
        "    \n",
        "    return chart_delta & chart_pop"
      ],
      "execution_count": 0,
      "outputs": []
    },
    {
      "metadata": {
        "id": "uTdYh7h2th2L",
        "colab_type": "text"
      },
      "cell_type": "markdown",
      "source": [
        "# Explore population growth by population total, country by country. \n",
        "\n",
        "#### explore any country you like-- just capitalize the name, and put it in a string. "
      ]
    },
    {
      "metadata": {
        "id": "4wvvpLiXrRIF",
        "colab_type": "code",
        "outputId": "9cf4c5b3-1efc-4364-db8e-74500142ec31",
        "colab": {
          "base_uri": "https://localhost:8080/",
          "height": 1694
        }
      },
      "cell_type": "code",
      "source": [
        "show_pop_w_delta(pop_and_delta('India'))"
      ],
      "execution_count": 6,
      "outputs": [
        {
          "output_type": "execute_result",
          "data": {
            "text/plain": [
              "VConcatChart({\n",
              "  vconcat: [Chart({\n",
              "    data:       Population  delta_pop         year\n",
              "    0   4.494806e+08   0.019470         1960\n",
              "    1   4.584950e+08   0.019857         1961\n",
              "    2   4.678525e+08   0.020204         1962\n",
              "    3   4.775280e+08   0.020470         1963\n",
              "    4   4.874845e+08   0.020636         1964\n",
              "    5   4.977024e+08   0.020744         1965\n",
              "    6   5.081619e+08   0.020798         1966\n",
              "    7   5.188898e+08   0.020891         1967\n",
              "    8   5.299673e+08   0.021124         1968\n",
              "    9   5.415051e+08   0.021537         1969\n",
              "    10  5.535785e+08   0.022051         1970\n",
              "    11  5.662248e+08   0.022588         1971\n",
              "    12  5.794115e+08   0.023022         1972\n",
              "    13  5.930589e+08   0.023281         1973\n",
              "    14  6.070503e+08   0.023318         1974\n",
              "    15  6.213017e+08   0.023205         1975\n",
              "    16  6.357717e+08   0.023023         1976\n",
              "    17  6.504850e+08   0.022879         1977\n",
              "    18  6.655023e+08   0.022824         1978\n",
              "    19  6.809158e+08   0.022897         1979\n",
              "    20  6.967835e+08   0.023036         1980\n",
              "    21  7.131180e+08   0.023172         1981\n",
              "    22  7.298680e+08   0.023217         1982\n",
              "    23  7.469491e+08   0.023133         1983\n",
              "    24  7.642452e+08   0.022892         1984\n",
              "    25  7.816667e+08   0.022540         1985\n",
              "    26  7.991814e+08   0.022160         1986\n",
              "    27  8.167927e+08   0.021797         1987\n",
              "    28  8.344893e+08   0.021435         1988\n",
              "    29  8.522700e+08   0.021083         1989\n",
              "    30  8.701335e+08   0.020743         1990\n",
              "    31  8.880549e+08   0.020387         1991\n",
              "    32  9.060211e+08   0.020029         1992\n",
              "    33  9.240578e+08   0.019712         1993\n",
              "    34  9.422042e+08   0.019447         1994\n",
              "    35  9.604828e+08   0.019214         1995\n",
              "    36  9.788932e+08   0.018986         1996\n",
              "    37  9.974053e+08   0.018735         1997\n",
              "    38  1.015974e+09   0.018446         1998\n",
              "    39  1.034539e+09   0.018108         1999\n",
              "    40  1.053051e+09   0.017735         2000\n",
              "    41  1.071478e+09   0.017347         2001\n",
              "    42  1.089807e+09   0.016962         2002\n",
              "    43  1.108028e+09   0.016581         2003\n",
              "    44  1.126136e+09   0.016210         2004\n",
              "    45  1.144119e+09   0.015843         2005\n",
              "    46  1.161978e+09   0.015489         2006\n",
              "    47  1.179681e+09   0.015121         2007\n",
              "    48  1.197147e+09   0.014697         2008\n",
              "    49  1.214270e+09   0.014202         2009\n",
              "    50  1.230981e+09   0.013668         2010\n",
              "    51  1.247236e+09   0.013119         2011\n",
              "    52  1.263066e+09   0.012612         2012\n",
              "    53  1.278562e+09   0.012194         2013\n",
              "    54  1.293859e+09   0.011893         2014\n",
              "    55  1.309054e+09   0.011675         2015\n",
              "    56  1.324171e+09   0.011482         2016\n",
              "    57  1.339180e+09   0.011271         2017\n",
              "    58           NaN        NaN  Unnamed: 62,\n",
              "    encoding: EncodingWithFacet({\n",
              "      x: X({\n",
              "        axis: Axis({\n",
              "          title: 'Year'\n",
              "        }),\n",
              "        shorthand: 'year'\n",
              "      }),\n",
              "      y: Y({\n",
              "        axis: Axis({\n",
              "          format: '%',\n",
              "          title: 'Change in Population'\n",
              "        }),\n",
              "        shorthand: 'delta_pop'\n",
              "      })\n",
              "    }),\n",
              "    mark: MarkDef({\n",
              "      color: 'purple',\n",
              "      type: 'line'\n",
              "    }),\n",
              "    selection: NamedSelection({\n",
              "      selector002: SelectionDef({\n",
              "        encodings: ['x'],\n",
              "        type: 'interval'\n",
              "      })\n",
              "    }),\n",
              "    width: 800\n",
              "  }), Chart({\n",
              "    data:       Population  delta_pop         year\n",
              "    0   4.494806e+08   0.019470         1960\n",
              "    1   4.584950e+08   0.019857         1961\n",
              "    2   4.678525e+08   0.020204         1962\n",
              "    3   4.775280e+08   0.020470         1963\n",
              "    4   4.874845e+08   0.020636         1964\n",
              "    5   4.977024e+08   0.020744         1965\n",
              "    6   5.081619e+08   0.020798         1966\n",
              "    7   5.188898e+08   0.020891         1967\n",
              "    8   5.299673e+08   0.021124         1968\n",
              "    9   5.415051e+08   0.021537         1969\n",
              "    10  5.535785e+08   0.022051         1970\n",
              "    11  5.662248e+08   0.022588         1971\n",
              "    12  5.794115e+08   0.023022         1972\n",
              "    13  5.930589e+08   0.023281         1973\n",
              "    14  6.070503e+08   0.023318         1974\n",
              "    15  6.213017e+08   0.023205         1975\n",
              "    16  6.357717e+08   0.023023         1976\n",
              "    17  6.504850e+08   0.022879         1977\n",
              "    18  6.655023e+08   0.022824         1978\n",
              "    19  6.809158e+08   0.022897         1979\n",
              "    20  6.967835e+08   0.023036         1980\n",
              "    21  7.131180e+08   0.023172         1981\n",
              "    22  7.298680e+08   0.023217         1982\n",
              "    23  7.469491e+08   0.023133         1983\n",
              "    24  7.642452e+08   0.022892         1984\n",
              "    25  7.816667e+08   0.022540         1985\n",
              "    26  7.991814e+08   0.022160         1986\n",
              "    27  8.167927e+08   0.021797         1987\n",
              "    28  8.344893e+08   0.021435         1988\n",
              "    29  8.522700e+08   0.021083         1989\n",
              "    30  8.701335e+08   0.020743         1990\n",
              "    31  8.880549e+08   0.020387         1991\n",
              "    32  9.060211e+08   0.020029         1992\n",
              "    33  9.240578e+08   0.019712         1993\n",
              "    34  9.422042e+08   0.019447         1994\n",
              "    35  9.604828e+08   0.019214         1995\n",
              "    36  9.788932e+08   0.018986         1996\n",
              "    37  9.974053e+08   0.018735         1997\n",
              "    38  1.015974e+09   0.018446         1998\n",
              "    39  1.034539e+09   0.018108         1999\n",
              "    40  1.053051e+09   0.017735         2000\n",
              "    41  1.071478e+09   0.017347         2001\n",
              "    42  1.089807e+09   0.016962         2002\n",
              "    43  1.108028e+09   0.016581         2003\n",
              "    44  1.126136e+09   0.016210         2004\n",
              "    45  1.144119e+09   0.015843         2005\n",
              "    46  1.161978e+09   0.015489         2006\n",
              "    47  1.179681e+09   0.015121         2007\n",
              "    48  1.197147e+09   0.014697         2008\n",
              "    49  1.214270e+09   0.014202         2009\n",
              "    50  1.230981e+09   0.013668         2010\n",
              "    51  1.247236e+09   0.013119         2011\n",
              "    52  1.263066e+09   0.012612         2012\n",
              "    53  1.278562e+09   0.012194         2013\n",
              "    54  1.293859e+09   0.011893         2014\n",
              "    55  1.309054e+09   0.011675         2015\n",
              "    56  1.324171e+09   0.011482         2016\n",
              "    57  1.339180e+09   0.011271         2017\n",
              "    58           NaN        NaN  Unnamed: 62,\n",
              "    encoding: EncodingWithFacet({\n",
              "      tooltip: Tooltip({\n",
              "        shorthand: 'delta_pop'\n",
              "      }),\n",
              "      x: X({\n",
              "        scale: Scale({\n",
              "          domain: (0, 1339180127.0)\n",
              "        }),\n",
              "        shorthand: 'Population'\n",
              "      }),\n",
              "      y: Y({\n",
              "        axis: Axis({\n",
              "          title: 'Year'\n",
              "        }),\n",
              "        shorthand: 'year'\n",
              "      })\n",
              "    }),\n",
              "    mark: MarkDef({\n",
              "      color: 'orange',\n",
              "      type: 'bar'\n",
              "    }),\n",
              "    transform: [FilterTransform({\n",
              "      filter: {'selection': 'selector002'}\n",
              "    })],\n",
              "    width: 800\n",
              "  })]\n",
              "})"
            ],
            "text/html": [
              "<!DOCTYPE html>\n",
              "<html>\n",
              "<head>\n",
              "  <style>\n",
              "    .vega-actions a {\n",
              "        margin-right: 12px;\n",
              "        color: #757575;\n",
              "        font-weight: normal;\n",
              "        font-size: 13px;\n",
              "    }\n",
              "    .error {\n",
              "        color: red;\n",
              "    }\n",
              "  </style>\n",
              "  <script type=\"text/javascript\" src=\"https://cdn.jsdelivr.net/npm//vega@4\"></script>\n",
              "  <script type=\"text/javascript\" src=\"https://cdn.jsdelivr.net/npm//vega-lite@2.6.0\"></script>\n",
              "  <script type=\"text/javascript\" src=\"https://cdn.jsdelivr.net/npm//vega-embed@3\"></script>\n",
              "</head>\n",
              "<body>\n",
              "  <div id=\"altair-viz\"></div>\n",
              "  <script>\n",
              "      var spec = {\"config\": {\"view\": {\"width\": 400, \"height\": 300}}, \"vconcat\": [{\"data\": {\"name\": \"data-b0018b1df6a0d4173ae9666e51de31cb\"}, \"mark\": {\"type\": \"line\", \"color\": \"purple\"}, \"encoding\": {\"x\": {\"type\": \"nominal\", \"axis\": {\"title\": \"Year\"}, \"field\": \"year\"}, \"y\": {\"type\": \"quantitative\", \"axis\": {\"format\": \"%\", \"title\": \"Change in Population\"}, \"field\": \"delta_pop\"}}, \"selection\": {\"selector002\": {\"type\": \"interval\", \"encodings\": [\"x\"]}}, \"width\": 800}, {\"data\": {\"name\": \"data-b0018b1df6a0d4173ae9666e51de31cb\"}, \"mark\": {\"type\": \"bar\", \"color\": \"orange\"}, \"encoding\": {\"tooltip\": {\"type\": \"quantitative\", \"field\": \"delta_pop\"}, \"x\": {\"type\": \"quantitative\", \"field\": \"Population\", \"scale\": {\"domain\": [0, 1339180127.0]}}, \"y\": {\"type\": \"nominal\", \"axis\": {\"title\": \"Year\"}, \"field\": \"year\"}}, \"transform\": [{\"filter\": {\"selection\": \"selector002\"}}], \"width\": 800}], \"$schema\": \"https://vega.github.io/schema/vega-lite/v2.6.0.json\", \"datasets\": {\"data-b0018b1df6a0d4173ae9666e51de31cb\": [{\"Population\": 449480608.0, \"delta_pop\": 0.0194699298702626, \"year\": \"1960\"}, {\"Population\": 458494963.0, \"delta_pop\": 0.0198565940998499, \"year\": \"1961\"}, {\"Population\": 467852537.0, \"delta_pop\": 0.020203848572590197, \"year\": \"1962\"}, {\"Population\": 477527970.0, \"delta_pop\": 0.0204695797360852, \"year\": \"1963\"}, {\"Population\": 487484535.0, \"delta_pop\": 0.020635832736278, \"year\": \"1964\"}, {\"Population\": 497702365.0, \"delta_pop\": 0.0207436708539765, \"year\": \"1965\"}, {\"Population\": 508161935.0, \"delta_pop\": 0.020797928755491996, \"year\": \"1966\"}, {\"Population\": 518889779.0, \"delta_pop\": 0.020891322275551297, \"year\": \"1967\"}, {\"Population\": 529967317.0, \"delta_pop\": 0.021123849864192402, \"year\": \"1968\"}, {\"Population\": 541505076.0, \"delta_pop\": 0.0215371017513253, \"year\": \"1969\"}, {\"Population\": 553578513.0, \"delta_pop\": 0.022051149969334997, \"year\": \"1970\"}, {\"Population\": 566224812.0, \"delta_pop\": 0.022587603361015802, \"year\": \"1971\"}, {\"Population\": 579411513.0, \"delta_pop\": 0.023021762004900803, \"year\": \"1972\"}, {\"Population\": 593058926.0, \"delta_pop\": 0.0232808076759427, \"year\": \"1973\"}, {\"Population\": 607050255.0, \"delta_pop\": 0.023317816684618, \"year\": \"1974\"}, {\"Population\": 621301720.0, \"delta_pop\": 0.023205245400537002, \"year\": \"1975\"}, {\"Population\": 635771734.0, \"delta_pop\": 0.0230227646572322, \"year\": \"1976\"}, {\"Population\": 650485030.0, \"delta_pop\": 0.022878694508973202, \"year\": \"1977\"}, {\"Population\": 665502284.0, \"delta_pop\": 0.0228237852144038, \"year\": \"1978\"}, {\"Population\": 680915804.0, \"delta_pop\": 0.022896592841023397, \"year\": \"1979\"}, {\"Population\": 696783517.0, \"delta_pop\": 0.023036107300905696, \"year\": \"1980\"}, {\"Population\": 713118032.0, \"delta_pop\": 0.0231721795133846, \"year\": \"1981\"}, {\"Population\": 729868013.0, \"delta_pop\": 0.0232167641952132, \"year\": \"1982\"}, {\"Population\": 746949067.0, \"delta_pop\": 0.023133285722141496, \"year\": \"1983\"}, {\"Population\": 764245202.0, \"delta_pop\": 0.0228916832929049, \"year\": \"1984\"}, {\"Population\": 781666671.0, \"delta_pop\": 0.022539715055119397, \"year\": \"1985\"}, {\"Population\": 799181436.0, \"delta_pop\": 0.022159601080356004, \"year\": \"1986\"}, {\"Population\": 816792741.0, \"delta_pop\": 0.021797380854158995, \"year\": \"1987\"}, {\"Population\": 834489322.0, \"delta_pop\": 0.0214345676434899, \"year\": \"1988\"}, {\"Population\": 852270034.0, \"delta_pop\": 0.0210834705945965, \"year\": \"1989\"}, {\"Population\": 870133480.0, \"delta_pop\": 0.0207432072389489, \"year\": \"1990\"}, {\"Population\": 888054875.0, \"delta_pop\": 0.020386912086506496, \"year\": \"1991\"}, {\"Population\": 906021106.0, \"delta_pop\": 0.0200290643233393, \"year\": \"1992\"}, {\"Population\": 924057817.0, \"delta_pop\": 0.019712040617553002, \"year\": \"1993\"}, {\"Population\": 942204249.0, \"delta_pop\": 0.019447433719090104, \"year\": \"1994\"}, {\"Population\": 960482795.0, \"delta_pop\": 0.0192139935886118, \"year\": \"1995\"}, {\"Population\": 978893217.0, \"delta_pop\": 0.018986493534495, \"year\": \"1996\"}, {\"Population\": 997405318.0, \"delta_pop\": 0.0187346619235257, \"year\": \"1997\"}, {\"Population\": 1015974042.0, \"delta_pop\": 0.0184458536387907, \"year\": \"1998\"}, {\"Population\": 1034539214.0, \"delta_pop\": 0.018108324102628602, \"year\": \"1999\"}, {\"Population\": 1053050912.0, \"delta_pop\": 0.0177354577407893, \"year\": \"2000\"}, {\"Population\": 1071477855.0, \"delta_pop\": 0.0173472869683529, \"year\": \"2001\"}, {\"Population\": 1089807112.0, \"delta_pop\": 0.0169618506845585, \"year\": \"2002\"}, {\"Population\": 1108027848.0, \"delta_pop\": 0.0165810024696219, \"year\": \"2003\"}, {\"Population\": 1126135777.0, \"delta_pop\": 0.016210384345988604, \"year\": \"2004\"}, {\"Population\": 1144118674.0, \"delta_pop\": 0.0158425176621391, \"year\": \"2005\"}, {\"Population\": 1161977719.0, \"delta_pop\": 0.0154888599557035, \"year\": \"2006\"}, {\"Population\": 1179681239.0, \"delta_pop\": 0.015120781996387401, \"year\": \"2007\"}, {\"Population\": 1197146906.0, \"delta_pop\": 0.014696881989722901, \"year\": \"2008\"}, {\"Population\": 1214270132.0, \"delta_pop\": 0.014202034354834598, \"year\": \"2009\"}, {\"Population\": 1230980691.0, \"delta_pop\": 0.013667979569817398, \"year\": \"2010\"}, {\"Population\": 1247236029.0, \"delta_pop\": 0.013118764795248301, \"year\": \"2011\"}, {\"Population\": 1263065852.0, \"delta_pop\": 0.0126120551067994, \"year\": \"2012\"}, {\"Population\": 1278562207.0, \"delta_pop\": 0.012194189443309099, \"year\": \"2013\"}, {\"Population\": 1293859294.0, \"delta_pop\": 0.011893282114338202, \"year\": \"2014\"}, {\"Population\": 1309053980.0, \"delta_pop\": 0.0116752707459156, \"year\": \"2015\"}, {\"Population\": 1324171354.0, \"delta_pop\": 0.011482146927273703, \"year\": \"2016\"}, {\"Population\": 1339180127.0, \"delta_pop\": 0.0112707105958419, \"year\": \"2017\"}, {\"Population\": null, \"delta_pop\": null, \"year\": \"Unnamed: 62\"}]}};\n",
              "      var embedOpt = {\"mode\": \"vega-lite\"};\n",
              "\n",
              "      function showError(el, error){\n",
              "          el.innerHTML = ('<div class=\"error\" style=\"color:red;\">'\n",
              "                          + '<p>JavaScript Error: ' + error.message + '</p>'\n",
              "                          + \"<p>This usually means there's a typo in your chart specification. \"\n",
              "                          + \"See the javascript console for the full traceback.</p>\"\n",
              "                          + '</div>');\n",
              "          throw error;\n",
              "      }\n",
              "      const el = document.getElementById('altair-viz');\n",
              "      vegaEmbed(\"#altair-viz\", spec, embedOpt)\n",
              "        .catch(error => showError(el, error));\n",
              "\n",
              "  </script>\n",
              "</body>\n",
              "</html>"
            ]
          },
          "metadata": {
            "tags": []
          },
          "execution_count": 6
        }
      ]
    },
    {
      "metadata": {
        "id": "KApqNF_ftiHA",
        "colab_type": "text"
      },
      "cell_type": "markdown",
      "source": [
        ""
      ]
    },
    {
      "metadata": {
        "id": "_F1zHBqltiKA",
        "colab_type": "text"
      },
      "cell_type": "markdown",
      "source": [
        ""
      ]
    },
    {
      "metadata": {
        "id": "ovM6qerVz4iR",
        "colab_type": "code",
        "outputId": "2029d96c-a5c0-4d2e-a948-ea9b19a6ffa5",
        "colab": {
          "base_uri": "https://localhost:8080/",
          "height": 207
        }
      },
      "cell_type": "code",
      "source": [
        "china = pop_and_delta('China')\n",
        "\n",
        "china.head()"
      ],
      "execution_count": 0,
      "outputs": [
        {
          "output_type": "execute_result",
          "data": {
            "text/html": [
              "<div>\n",
              "<style scoped>\n",
              "    .dataframe tbody tr th:only-of-type {\n",
              "        vertical-align: middle;\n",
              "    }\n",
              "\n",
              "    .dataframe tbody tr th {\n",
              "        vertical-align: top;\n",
              "    }\n",
              "\n",
              "    .dataframe thead th {\n",
              "        text-align: right;\n",
              "    }\n",
              "</style>\n",
              "<table border=\"1\" class=\"dataframe\">\n",
              "  <thead>\n",
              "    <tr style=\"text-align: right;\">\n",
              "      <th></th>\n",
              "      <th>delta_pop</th>\n",
              "      <th>pop</th>\n",
              "      <th>year</th>\n",
              "    </tr>\n",
              "  </thead>\n",
              "  <tbody>\n",
              "    <tr>\n",
              "      <th>0</th>\n",
              "      <td>0.018329</td>\n",
              "      <td>667070000.0</td>\n",
              "      <td>1960</td>\n",
              "    </tr>\n",
              "    <tr>\n",
              "      <th>1</th>\n",
              "      <td>-0.010155</td>\n",
              "      <td>660330000.0</td>\n",
              "      <td>1961</td>\n",
              "    </tr>\n",
              "    <tr>\n",
              "      <th>2</th>\n",
              "      <td>0.008205</td>\n",
              "      <td>665770000.0</td>\n",
              "      <td>1962</td>\n",
              "    </tr>\n",
              "    <tr>\n",
              "      <th>3</th>\n",
              "      <td>0.024576</td>\n",
              "      <td>682335000.0</td>\n",
              "      <td>1963</td>\n",
              "    </tr>\n",
              "    <tr>\n",
              "      <th>4</th>\n",
              "      <td>0.023207</td>\n",
              "      <td>698355000.0</td>\n",
              "      <td>1964</td>\n",
              "    </tr>\n",
              "  </tbody>\n",
              "</table>\n",
              "</div>"
            ],
            "text/plain": [
              "   delta_pop          pop  year\n",
              "0   0.018329  667070000.0  1960\n",
              "1  -0.010155  660330000.0  1961\n",
              "2   0.008205  665770000.0  1962\n",
              "3   0.024576  682335000.0  1963\n",
              "4   0.023207  698355000.0  1964"
            ]
          },
          "metadata": {
            "tags": []
          },
          "execution_count": 13
        }
      ]
    },
    {
      "metadata": {
        "id": "D4jj3qtwtiES",
        "colab_type": "text"
      },
      "cell_type": "markdown",
      "source": [
        ""
      ]
    }
  ]
}